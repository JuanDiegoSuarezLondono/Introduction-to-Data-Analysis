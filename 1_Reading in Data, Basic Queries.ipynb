{
 "cells": [
  {
   "cell_type": "markdown",
   "id": "8997139a",
   "metadata": {},
   "source": [
    "### Reading in Data, Basic Queries"
   ]
  },
  {
   "cell_type": "code",
   "execution_count": 1,
   "id": "594b6c86",
   "metadata": {},
   "outputs": [],
   "source": [
    "import pandas as pd\n",
    "pd.options.display.max_rows = 10"
   ]
  },
  {
   "cell_type": "code",
   "execution_count": null,
   "id": "8fc64c10",
   "metadata": {},
   "outputs": [],
   "source": [
    "#read the gdp data from gdp.csv\n",
    "df = ..."
   ]
  }
 ],
 "metadata": {
  "kernelspec": {
   "display_name": "Python 3 (ipykernel)",
   "language": "python",
   "name": "python3"
  },
  "language_info": {
   "codemirror_mode": {
    "name": "ipython",
    "version": 3
   },
   "file_extension": ".py",
   "mimetype": "text/x-python",
   "name": "python",
   "nbconvert_exporter": "python",
   "pygments_lexer": "ipython3",
   "version": "3.10.9"
  }
 },
 "nbformat": 4,
 "nbformat_minor": 5
}
